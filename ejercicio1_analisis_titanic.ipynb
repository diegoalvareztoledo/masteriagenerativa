{
  "nbformat": 4,
  "nbformat_minor": 0,
  "metadata": {
    "colab": {
      "provenance": []
    },
    "kernelspec": {
      "name": "python3",
      "display_name": "Python 3"
    },
    "language_info": {
      "name": "python"
    }
  },
  "cells": [
    {
      "cell_type": "code",
      "source": [
        "import pandas as pd\n",
        "pd.set_option(\"display.precision\", 2)"
      ],
      "metadata": {
        "id": "62YVCpLcKTQq"
      },
      "execution_count": 2,
      "outputs": []
    },
    {
      "cell_type": "code",
      "execution_count": 8,
      "metadata": {
        "id": "Rn0qYUCGJmlb"
      },
      "outputs": [],
      "source": [
        "df = pd.read_csv(\"/titanic_train.csv\")"
      ]
    },
    {
      "cell_type": "markdown",
      "source": [
        "# **1. ¿Cuántos hombres y mujeres hay?**"
      ],
      "metadata": {
        "id": "X-c7mDpFMIid"
      }
    },
    {
      "cell_type": "code",
      "source": [
        "df[\"Sex\"].value_counts()"
      ],
      "metadata": {
        "colab": {
          "base_uri": "https://localhost:8080/"
        },
        "id": "h54tRkXvMUw9",
        "outputId": "81fbebf7-3a52-45d5-8fb3-7317e2dca029"
      },
      "execution_count": 11,
      "outputs": [
        {
          "output_type": "execute_result",
          "data": {
            "text/plain": [
              "male      577\n",
              "female    314\n",
              "Name: Sex, dtype: int64"
            ]
          },
          "metadata": {},
          "execution_count": 11
        }
      ]
    },
    {
      "cell_type": "markdown",
      "source": [
        "# **2. ¿Cuántos hombres en segunda clase había a bordo?**"
      ],
      "metadata": {
        "id": "adU5oK4fNIfI"
      }
    },
    {
      "cell_type": "code",
      "source": [
        "len(df[(df.Sex==\"male\") & (df[\"Pclass\"]==2)])"
      ],
      "metadata": {
        "colab": {
          "base_uri": "https://localhost:8080/"
        },
        "id": "8Eu2el2FNnTj",
        "outputId": "c17b1fdd-9924-48c6-a73c-983398b30239"
      },
      "execution_count": 13,
      "outputs": [
        {
          "output_type": "execute_result",
          "data": {
            "text/plain": [
              "108"
            ]
          },
          "metadata": {},
          "execution_count": 13
        }
      ]
    },
    {
      "cell_type": "markdown",
      "source": [
        "# **3. ¿Cuál es la mediana y la desviación estándar de la tarifa?**"
      ],
      "metadata": {
        "id": "t-c1R2TsOsKQ"
      }
    },
    {
      "cell_type": "code",
      "source": [
        "mediana = round(df[\"Fare\"].median(), 2)\n",
        "d_est = round(df[\"Fare\"].std(), 2)\n",
        "print(f\"Mediana: {mediana}\")\n",
        "print(f\"Desviación estandar: {d_est}\")"
      ],
      "metadata": {
        "colab": {
          "base_uri": "https://localhost:8080/"
        },
        "id": "o8Vg-SMVPCAy",
        "outputId": "ef5c3d49-69c4-4844-f011-ffa72f62a4bc"
      },
      "execution_count": 16,
      "outputs": [
        {
          "output_type": "stream",
          "name": "stdout",
          "text": [
            "Mediana: 14.45\n",
            "Desviación estandar: 49.69\n"
          ]
        }
      ]
    },
    {
      "cell_type": "markdown",
      "source": [
        "# **4. ¿La edad media de las personas que sobrevivieron es mayor que la de las que murieron?**"
      ],
      "metadata": {
        "id": "It9yBovlQlaa"
      }
    },
    {
      "cell_type": "code",
      "source": [
        "df.groupby(\"Survived\")[\"Age\"].mean()"
      ],
      "metadata": {
        "colab": {
          "base_uri": "https://localhost:8080/"
        },
        "id": "m4UWbuzJQr5z",
        "outputId": "16c6e0b3-8ded-402a-8f96-5f639448b951"
      },
      "execution_count": 17,
      "outputs": [
        {
          "output_type": "execute_result",
          "data": {
            "text/plain": [
              "Survived\n",
              "0    30.63\n",
              "1    28.34\n",
              "Name: Age, dtype: float64"
            ]
          },
          "metadata": {},
          "execution_count": 17
        }
      ]
    },
    {
      "cell_type": "markdown",
      "source": [
        "# **5. ¿Cuáles son los porcentajes de pasajeros supervivientes de: a) menores de 30 años? b) mayores de 60 años.**"
      ],
      "metadata": {
        "id": "mWu_w90xRjut"
      }
    },
    {
      "cell_type": "code",
      "source": [
        "u30 = df[df[\"Age\"] < 30]\n",
        "o60 = df[df[\"Age\"] > 60]\n",
        "u30per100 = round(100*u30.Survived.mean(), 1)\n",
        "o60per100 = round(100*o60.Survived.mean(), 1)\n",
        "print(f\"Menores de 30 años: {u30per100}%\")\n",
        "print(f\"Menores de 30 años: {o60per100}%\")"
      ],
      "metadata": {
        "colab": {
          "base_uri": "https://localhost:8080/"
        },
        "id": "ljdJZXG2Rokf",
        "outputId": "1c6c0759-21c4-4aa3-9ad0-a6c1bcb6abef"
      },
      "execution_count": 19,
      "outputs": [
        {
          "output_type": "stream",
          "name": "stdout",
          "text": [
            "Menores de 30 años: 40.6%\n",
            "Menores de 30 años: 22.7%\n"
          ]
        }
      ]
    },
    {
      "cell_type": "markdown",
      "source": [
        "# **6. ¿Es cierto que las mujeres sobrevivieron con más frecuencia que los hombres? ¿Cuáles son los porcentajes?**"
      ],
      "metadata": {
        "id": "ot45FSLbS9su"
      }
    },
    {
      "cell_type": "code",
      "source": [
        "mujeres = df[df[\"Sex\"]==\"female\"]\n",
        "hombres = df[df[\"Sex\"]==\"male\"]\n",
        "mper100 = round(100*mujeres.Survived.mean(), 1)\n",
        "hper100 = round(100*hombres.Survived.mean(), 1)\n",
        "print(f\"Porcentaje de mujeres: {mper100}%\")\n",
        "print(f\"Porcentaje de hombres: {hper100}%\")"
      ],
      "metadata": {
        "colab": {
          "base_uri": "https://localhost:8080/"
        },
        "id": "nAyaLUGeTV52",
        "outputId": "a7fb5ce1-69f1-484f-ef83-638d2ff27ba4"
      },
      "execution_count": 20,
      "outputs": [
        {
          "output_type": "stream",
          "name": "stdout",
          "text": [
            "Porcentaje de mujeres: 74.2%\n",
            "Porcentaje de hombres: 18.9%\n"
          ]
        }
      ]
    },
    {
      "cell_type": "markdown",
      "source": [
        "# **7. ¿Cuál es el nombre más popular entre los pasajeros masculinos?**"
      ],
      "metadata": {
        "id": "Ea00yXOlUEaG"
      }
    },
    {
      "cell_type": "code",
      "source": [],
      "metadata": {
        "id": "WvAXHCIyUKC5"
      },
      "execution_count": 24,
      "outputs": []
    }
  ]
}